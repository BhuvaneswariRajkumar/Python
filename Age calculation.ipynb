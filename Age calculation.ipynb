{
 "cells": [
  {
   "cell_type": "code",
   "execution_count": 3,
   "metadata": {},
   "outputs": [],
   "source": [
    "def calculate_advance_age():\n",
    "    dob=input(\"enter the dob\")\n",
    "    yob=dob[4:8]\n",
    "    mob=dob[2:4]\n",
    "    day_b=dob[0:2]\n",
    "    yob=int(yob)\n",
    "    mob=int(mob)\n",
    "    day_b=int(day_b)\n",
    "    birth_days=365*yob+30*mob+day_b\n",
    "    current_days=365*2023+30*10+28\n",
    "    age_days=current_days-birth_days\n",
    "    age_year=age_days//365\n",
    "    rem_days=age_days%365\n",
    "    age_month=rem_days//30\n",
    "    age_days=rem_days%30\n",
    "    print(age_year)\n",
    "    print(age_month)\n",
    "    print(age_days)\n",
    "\n"
   ]
  },
  {
   "cell_type": "code",
   "execution_count": 4,
   "metadata": {},
   "outputs": [],
   "source": [
    "calculate_advance_age()"
   ]
  },
  {
   "cell_type": "code",
   "execution_count": null,
   "metadata": {},
   "outputs": [
    {
     "name": "stdout",
     "output_type": "stream",
     "text": [
      "ana\n"
     ]
    }
   ],
   "source": [
    "x=\"bhuvana\"\n",
    "y=x[4:7]\n",
    "print(y)"
   ]
  },
  {
   "cell_type": "code",
   "execution_count": null,
   "metadata": {},
   "outputs": [],
   "source": []
  }
 ],
 "metadata": {
  "kernelspec": {
   "display_name": "Python 3",
   "language": "python",
   "name": "python3"
  },
  "language_info": {
   "codemirror_mode": {
    "name": "ipython",
    "version": 3
   },
   "file_extension": ".py",
   "mimetype": "text/x-python",
   "name": "python",
   "nbconvert_exporter": "python",
   "pygments_lexer": "ipython3",
   "version": "3.11.6"
  }
 },
 "nbformat": 4,
 "nbformat_minor": 2
}
