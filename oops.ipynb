{
 "cells": [
  {
   "cell_type": "code",
   "execution_count": 52,
   "metadata": {},
   "outputs": [],
   "source": [
    "student_names=[]\n",
    "roll_nos=[]\n",
    "branches=[]\n",
    "paid_amounts=[]\n",
    "\n"
   ]
  },
  {
   "cell_type": "code",
   "execution_count": 53,
   "metadata": {},
   "outputs": [],
   "source": [
    "def create_student(name,roll_no,branch,paid_amount):\n",
    "    student_names.append(name)\n",
    "    roll_nos.append(roll_no)\n",
    "    branches.append(branch)\n",
    "    paid_amounts.append(paid_amount)"
   ]
  },
  {
   "cell_type": "code",
   "execution_count": 54,
   "metadata": {},
   "outputs": [
    {
     "name": "stdout",
     "output_type": "stream",
     "text": [
      "['Bhavani'] \n",
      " [34] \n",
      " ['CSE'] \n",
      " [20000]\n"
     ]
    }
   ],
   "source": [
    "create_student(\"Bhavani\",34,\"CSE\",20000)\n",
    "print(student_names,\"\\n\",roll_nos,\"\\n\",branches,\"\\n\",paid_amounts)"
   ]
  },
  {
   "cell_type": "code",
   "execution_count": 55,
   "metadata": {},
   "outputs": [],
   "source": [
    "class student:\n",
    "    def __init__(self ,name,roll_no,branch,paid_amount):\n",
    "        self.name=name\n",
    "        self.roll_no=roll_no\n",
    "        self.branch=branch\n",
    "        self.paid_amount=paid_amount\n",
    "\n"
   ]
  },
  {
   "cell_type": "code",
   "execution_count": 56,
   "metadata": {},
   "outputs": [],
   "source": [
    "def get_summary(self):\n",
    "    print(f\"The name of the student is{self.name} \\n Her roll number is{self.roll_no} \\n She belongs to{self.branch} branch and has paid_amount as Rs.{self.paid_amount}.\")"
   ]
  },
  {
   "cell_type": "code",
   "execution_count": 57,
   "metadata": {},
   "outputs": [],
   "source": [
    "bavani=student(\"Bavani\",34,\"CSE\",12000)"
   ]
  },
  {
   "cell_type": "code",
   "execution_count": 58,
   "metadata": {},
   "outputs": [
    {
     "name": "stdout",
     "output_type": "stream",
     "text": [
      "Bavani\n",
      "34\n",
      "CSE\n",
      "12000\n"
     ]
    }
   ],
   "source": [
    "print(bavani.name)\n",
    "print(bavani.roll_no)\n",
    "print(bavani.branch)\n",
    "print(bavani.paid_amount)\n"
   ]
  },
  {
   "cell_type": "markdown",
   "metadata": {},
   "source": [
    "### variables vs properties and functions vs methods ###"
   ]
  },
  {
   "cell_type": "code",
   "execution_count": 3,
   "metadata": {},
   "outputs": [],
   "source": [
    "# create variable for student with name \"Hari\"\n",
    "name=\"Hari\"\n",
    "roll_no=12\n",
    "branch=\"CSE\"\n",
    "paid_amount=12000\n",
    "\n",
    "# create some functions for the student\n",
    "def get_name_roll():\n",
    "    print(f\"The name of the student is{name} and his/her roll_no is{roll_no}\")\n",
    "\n",
    "def get_summary():\n",
    "        print(f\"The student name is {name} and roll number is {roll_no} \\n he is from {branch} and his paid amount is {paid_amount}\")"
   ]
  },
  {
   "cell_type": "code",
   "execution_count": 4,
   "metadata": {},
   "outputs": [
    {
     "name": "stdout",
     "output_type": "stream",
     "text": [
      "The student name is Hari and roll number is 12 \n",
      " he is from CSE and his paid amount is 12000\n"
     ]
    }
   ],
   "source": [
    "get_summary()"
   ]
  },
  {
   "cell_type": "markdown",
   "metadata": {},
   "source": [
    "### create a software for the college to collect data of everyperson and store the data ###"
   ]
  },
  {
   "cell_type": "code",
   "execution_count": 9,
   "metadata": {},
   "outputs": [],
   "source": [
    "class teacher:\n",
    "    def __init__(self,name,id_no,DOB,mobile_no,dept):\n",
    "        self.name=name\n",
    "        self.id_no=id_no\n",
    "        self.DOB=DOB\n",
    "        self.mobile_no=mobile_no\n",
    "        self.dept=dept\n",
    "\n",
    "def get_summary(self):\n",
    "    print(f\"The name of the person is {self.name} and id is {self.id_no} \\n and the DOB is {self.DOB}, mobile number is {self.mobile_no}.\")\n",
    "\n",
    "class non_teacher:\n",
    "    def __init__(self,name,id_no,DOB,mobile_no,dept):\n",
    "        self.name=name\n",
    "        self.id_no=id_no\n",
    "        self.DOB=DOB\n",
    "        self.mobile_no=mobile_no\n",
    "        self.dept=dept\n",
    "\n",
    "class student:\n",
    "    def __init__(self,name,id_no,DOB,mobile_no,dept,paid_amount,passing_year):\n",
    "        self.name=name\n",
    "        self.id_no=id_no\n",
    "        self.DOB=DOB\n",
    "        self.mobile_no=mobile_no\n",
    "        self.dept=dept\n",
    "        self.paid_amount=paid_amount\n",
    "        self.passing_year=passing_year\n",
    "\n",
    "\n"
   ]
  },
  {
   "cell_type": "code",
   "execution_count": 15,
   "metadata": {},
   "outputs": [],
   "source": [
    "class person:\n",
    "    def __init__(self,name,id_no,DOB,mobile_no):\n",
    "        self.name=name\n",
    "        self.id_no=id_no\n",
    "        self.DOB=DOB\n",
    "        self.mobile_no=mobile_no\n",
    "\n",
    "    def get_summary(self):\n",
    "        print(f\"The name of the person is {self.name} and id is {self.id_no} \\n and the DOB is {self.DOB}, mobile number is {self.mobile_no}.\")\n",
    "\n",
    "\n",
    "class teacher(person):\n",
    "    def __init__(self,name,id_no,DOB,mobile_no,dept):\n",
    "        super().__init__(name,id_no,DOB,mobile_no)\n",
    "        self.dept=dept\n",
    "\n",
    "class non_teacher(person):\n",
    "    def __init__(self,name,id_no,DOB,mobile_no):\n",
    "        super().__init__(name,id_no,DOB,mobile_no)\n",
    "\n",
    "class student(teacher):\n",
    "    def __init__(self,name,id_no,DOB,mobile_no,dept,paid_amount,passing_year):\n",
    "        super().__init__(name,id_no,DOB,mobile_no,dept)\n",
    "        self.paid_amount=paid_amount\n",
    "        self.passing_year=passing_year\n"
   ]
  },
  {
   "cell_type": "code",
   "execution_count": 24,
   "metadata": {},
   "outputs": [],
   "source": [
    "teacher1=teacher(\"bhuvii\",8,282003,8838311018,\"cse\",)\n",
    "student1=student(\"snow\",52,1662003,9751292585,\"cse\",23290,2004)"
   ]
  },
  {
   "cell_type": "code",
   "execution_count": 22,
   "metadata": {},
   "outputs": [
    {
     "name": "stdout",
     "output_type": "stream",
     "text": [
      "The name of the person is bhuvii and id is 8 \n",
      " and the DOB is 282003, mobile number is 8838311018.\n"
     ]
    }
   ],
   "source": [
    "teacher1.get_summary()"
   ]
  },
  {
   "cell_type": "code",
   "execution_count": 25,
   "metadata": {},
   "outputs": [
    {
     "name": "stdout",
     "output_type": "stream",
     "text": [
      "The name of the person is snow and id is 52 \n",
      " and the DOB is 1662003, mobile number is 9751292585.\n"
     ]
    }
   ],
   "source": [
    "student1.get_summary()"
   ]
  }
 ],
 "metadata": {
  "kernelspec": {
   "display_name": "Python 3",
   "language": "python",
   "name": "python3"
  },
  "language_info": {
   "codemirror_mode": {
    "name": "ipython",
    "version": 3
   },
   "file_extension": ".py",
   "mimetype": "text/x-python",
   "name": "python",
   "nbconvert_exporter": "python",
   "pygments_lexer": "ipython3",
   "version": "3.11.6"
  }
 },
 "nbformat": 4,
 "nbformat_minor": 2
}
